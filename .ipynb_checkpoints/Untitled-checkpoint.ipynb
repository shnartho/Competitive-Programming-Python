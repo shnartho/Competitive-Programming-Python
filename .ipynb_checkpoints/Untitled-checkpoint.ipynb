{
 "cells": [
  {
   "cell_type": "markdown",
   "id": "d0eafac2",
   "metadata": {},
   "source": [
    "1. Two sum\n",
    "Given an array of integers nums and an integer target, return indices of the two numbers such that they add up to target.You may assume that each input would have exactly one solution, and you may not use the same element twice."
   ]
  },
  {
   "cell_type": "raw",
   "id": "d042cd63",
   "metadata": {},
   "source": [
    "Input: nums = [2,7,11,15], target = 9\n",
    "Output: [0,1]\n",
    "Explanation: Because nums[0] + nums[1] == 9, we return [0, 1]."
   ]
  },
  {
   "cell_type": "raw",
   "id": "5d99d861",
   "metadata": {},
   "source": [
    "def twoSum(self, nums: List[int], target: int) -> List[int]:\n",
    "       see = {}\n",
    "       for i, num in enumerate(nums): \n",
    "           if target - num in see:\n",
    "               return([see[target-num],i])\n",
    "           elif num not in see:\n",
    "                see[num] = i "
   ]
  },
  {
   "cell_type": "markdown",
   "id": "4ec521f6",
   "metadata": {},
   "source": [
    "If input has multiple answers then"
   ]
  },
  {
   "cell_type": "code",
   "execution_count": 2,
   "id": "35ea2b95",
   "metadata": {},
   "outputs": [
    {
     "name": "stdout",
     "output_type": "stream",
     "text": [
      "[[1, 2], [3, 4], [4, 5]]\n"
     ]
    }
   ],
   "source": [
    "def twoSum(nums, target):\n",
    "\thashmap = {}\n",
    "\tli = []\n",
    "\tfor index, value in enumerate(nums):\n",
    "\t\tdiff = target - value\n",
    "\t\tif diff in hashmap:\n",
    "\t\t\tresult = [hashmap[diff], index]\n",
    "\t\t\tli.append(result)\n",
    "\t\t\t\n",
    "\t\tif value not in hashmap:\n",
    "\t\t\thashmap[value] = index\n",
    "\t\t\t\n",
    "\tprint(li)\n",
    "\t\n",
    "nums = [2,4,5,6,3,6,-6]\n",
    "target = 9\n",
    "twoSum(nums, target)"
   ]
  },
  {
   "cell_type": "code",
   "execution_count": null,
   "id": "1bbd5e50",
   "metadata": {},
   "outputs": [],
   "source": []
  }
 ],
 "metadata": {
  "kernelspec": {
   "display_name": "Python 3 (ipykernel)",
   "language": "python",
   "name": "python3"
  },
  "language_info": {
   "codemirror_mode": {
    "name": "ipython",
    "version": 3
   },
   "file_extension": ".py",
   "mimetype": "text/x-python",
   "name": "python",
   "nbconvert_exporter": "python",
   "pygments_lexer": "ipython3",
   "version": "3.8.10"
  }
 },
 "nbformat": 4,
 "nbformat_minor": 5
}
