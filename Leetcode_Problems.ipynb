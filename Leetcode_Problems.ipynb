{
 "cells": [
  {
   "cell_type": "markdown",
   "id": "741792a9",
   "metadata": {},
   "source": [
    "1. Two sum\n",
    "Given an array of integers nums and an integer target, return indices of the two numbers such that they add up to target.You may assume that each input would have exactly one solution, and you may not use the same element twice."
   ]
  },
  {
   "cell_type": "raw",
   "id": "68fd530f",
   "metadata": {},
   "source": [
    "Input: nums = [2,7,11,15], target = 9\n",
    "Output: [0,1]\n",
    "Explanation: Because nums[0] + nums[1] == 9, we return [0, 1]."
   ]
  },
  {
   "cell_type": "raw",
   "id": "4b9e9d37",
   "metadata": {},
   "source": [
    "def twoSum(self, nums: List[int], target: int) -> List[int]:\n",
    "       see = {}\n",
    "       for i, num in enumerate(nums): \n",
    "           if target - num in see:\n",
    "               return([see[target-num],i])\n",
    "           elif num not in see:\n",
    "                see[num] = i "
   ]
  },
  {
   "cell_type": "markdown",
   "id": "ff792925",
   "metadata": {},
   "source": [
    "If input has multiple answers then"
   ]
  },
  {
   "cell_type": "code",
   "execution_count": 2,
   "id": "34112bf5",
   "metadata": {},
   "outputs": [
    {
     "name": "stdout",
     "output_type": "stream",
     "text": [
      "[[1, 2], [3, 4], [4, 5]]\n"
     ]
    }
   ],
   "source": [
    "def twoSum(nums, target):\n",
    "\thashmap = {}\n",
    "\tli = []\n",
    "\tfor index, value in enumerate(nums):\n",
    "\t\tdiff = target - value\n",
    "\t\tif diff in hashmap:\n",
    "\t\t\tresult = [hashmap[diff], index]\n",
    "\t\t\tli.append(result)\n",
    "\t\t\t\n",
    "\t\tif value not in hashmap:\n",
    "\t\t\thashmap[value] = index\n",
    "\t\t\t\n",
    "\tprint(li)\n",
    "\t\n",
    "nums = [2,4,5,6,3,6,-6]\n",
    "target = 9\n",
    "twoSum(nums, target)"
   ]
  },
  {
   "cell_type": "code",
   "execution_count": 4,
   "id": "89129f36",
   "metadata": {},
   "outputs": [
    {
     "ename": "TypeError",
     "evalue": "Node() takes no arguments",
     "output_type": "error",
     "traceback": [
      "\u001b[0;31m---------------------------------------------------------------------------\u001b[0m",
      "\u001b[0;31mTypeError\u001b[0m                                 Traceback (most recent call last)",
      "Input \u001b[0;32mIn [4]\u001b[0m, in \u001b[0;36m<cell line: 24>\u001b[0;34m()\u001b[0m\n\u001b[1;32m     20\u001b[0m         \u001b[38;5;28;01mreturn\u001b[39;00m \u001b[38;5;28mself\u001b[39m\u001b[38;5;241m.\u001b[39mhead\n\u001b[1;32m     23\u001b[0m llist \u001b[38;5;241m=\u001b[39m LinkedList()\n\u001b[0;32m---> 24\u001b[0m \u001b[43mllist\u001b[49m\u001b[38;5;241;43m.\u001b[39;49m\u001b[43madd\u001b[49m\u001b[43m(\u001b[49m\u001b[38;5;241;43m5\u001b[39;49m\u001b[43m)\u001b[49m\n\u001b[1;32m     25\u001b[0m \u001b[38;5;28mprint\u001b[39m(llist)\n",
      "Input \u001b[0;32mIn [4]\u001b[0m, in \u001b[0;36mLinkedList.add\u001b[0;34m(self, new_item)\u001b[0m\n\u001b[1;32m     15\u001b[0m \u001b[38;5;28;01mdef\u001b[39;00m \u001b[38;5;21madd\u001b[39m(\u001b[38;5;28mself\u001b[39m, new_item):\n\u001b[1;32m     16\u001b[0m     \u001b[38;5;124;03m\"\"\"Creates a new node with new item and add to the front\"\"\"\u001b[39;00m\n\u001b[0;32m---> 17\u001b[0m     node \u001b[38;5;241m=\u001b[39m \u001b[43mNode\u001b[49m\u001b[43m(\u001b[49m\u001b[43mnew_item\u001b[49m\u001b[43m)\u001b[49m\n\u001b[1;32m     18\u001b[0m     node\u001b[38;5;241m.\u001b[39mnext \u001b[38;5;241m=\u001b[39m \u001b[38;5;28mself\u001b[39m\u001b[38;5;241m.\u001b[39mhead\n\u001b[1;32m     19\u001b[0m     \u001b[38;5;28mself\u001b[39m\u001b[38;5;241m.\u001b[39mhead \u001b[38;5;241m=\u001b[39m node\n",
      "\u001b[0;31mTypeError\u001b[0m: Node() takes no arguments"
     ]
    }
   ],
   "source": [
    "class Node:\n",
    "    \"\"\"Represents a node in a linked list\"\"\"\n",
    "    def __int__(self, item):\n",
    "        self.data = item\n",
    "        self.next = None\n",
    "\n",
    "    def __str__(self):\n",
    "        return str(self.data)\n",
    "\n",
    "class LinkedList:\n",
    "    \"\"\"Represents a single linked list\"\"\"\n",
    "    def __init__(self):\n",
    "        self.head = None\n",
    "\n",
    "    def add(self, new_item):\n",
    "        \"\"\"Creates a new node with new item and add to the front\"\"\"\n",
    "        node = Node(new_item)\n",
    "        node.next = self.head\n",
    "        self.head = node\n",
    "        return self.head\n",
    "\n",
    "\n",
    "llist = LinkedList()\n",
    "llist.add(5)\n",
    "print(llist)"
   ]
  },
  {
   "cell_type": "code",
   "execution_count": null,
   "id": "b5ea2e6a",
   "metadata": {},
   "outputs": [],
   "source": []
  }
 ],
 "metadata": {
  "kernelspec": {
   "display_name": "Python 3 (ipykernel)",
   "language": "python",
   "name": "python3"
  },
  "language_info": {
   "codemirror_mode": {
    "name": "ipython",
    "version": 3
   },
   "file_extension": ".py",
   "mimetype": "text/x-python",
   "name": "python",
   "nbconvert_exporter": "python",
   "pygments_lexer": "ipython3",
   "version": "3.8.10"
  }
 },
 "nbformat": 4,
 "nbformat_minor": 5
}
